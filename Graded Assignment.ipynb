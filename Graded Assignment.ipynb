{
  "metadata": {
    "language_info": {
      "codemirror_mode": {
        "name": "python",
        "version": 3
      },
      "file_extension": ".py",
      "mimetype": "text/x-python",
      "name": "python",
      "nbconvert_exporter": "python",
      "pygments_lexer": "ipython3",
      "version": "3.8"
    },
    "kernelspec": {
      "name": "python",
      "display_name": "Pyolite",
      "language": "python"
    }
  },
  "nbformat_minor": 4,
  "nbformat": 4,
  "cells": [
    {
      "cell_type": "markdown",
      "source": "# My Jupyter Notebook on IBM Watson Studio",
      "metadata": {}
    },
    {
      "cell_type": "markdown",
      "source": "# Fábio Carvalho Scarel\nSuzano Ventures Intern",
      "metadata": {}
    },
    {
      "cell_type": "markdown",
      "source": "_I am interested in data science because we have reached a point where using data and computing power to reach conclusions is a much more certain way to obtain the right results_",
      "metadata": {}
    },
    {
      "cell_type": "markdown",
      "source": "### My code in the next cell is supposed to give the result of 9 + 10",
      "metadata": {}
    },
    {
      "cell_type": "code",
      "source": "9+10",
      "metadata": {
        "trusted": true
      },
      "execution_count": 3,
      "outputs": [
        {
          "execution_count": 3,
          "output_type": "execute_result",
          "data": {
            "text/plain": "19"
          },
          "metadata": {}
        }
      ]
    },
    {
      "cell_type": "markdown",
      "source": "* Bulleted list 1\n* Bulleted list 2\n* Bulleted list 3\n\n| table | table |\n|-----|-----|\n|table|table|\n\n1. Numbered list\n2. Numbered list",
      "metadata": {}
    }
  ]
}